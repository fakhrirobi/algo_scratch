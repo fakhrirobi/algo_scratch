{
 "cells": [
  {
   "cell_type": "code",
   "execution_count": 3,
   "id": "ad68f22b-a076-4f6c-bdcd-8030d31d1ee3",
   "metadata": {},
   "outputs": [],
   "source": [
    "import numpy as np \n",
    "from sklearn import datasets \n",
    "## creating dummy data\n"
   ]
  },
  {
   "cell_type": "code",
   "execution_count": 99,
   "id": "7e0ad9ec-8324-43df-937f-75513b4198d1",
   "metadata": {
    "collapsed": true,
    "jupyter": {
     "outputs_hidden": true
    },
    "tags": []
   },
   "outputs": [
    {
     "data": {
      "text/plain": [
       "array([[ 4.55191442,  4.46713953],\n",
       "       [ 5.41324966,  3.35220052],\n",
       "       [ 2.11425938, -1.02393091],\n",
       "       [ 5.04240684,  4.83664799],\n",
       "       [ 4.45503614,  6.61055979],\n",
       "       [-0.82356584,  0.64047636],\n",
       "       [ 5.35302247,  6.74053323],\n",
       "       [ 4.58500545,  6.053009  ],\n",
       "       [ 5.28500567,  4.69425024],\n",
       "       [-1.10860348, -0.39447177],\n",
       "       [ 4.62580331,  3.25064331],\n",
       "       [ 5.50784268,  6.38596849],\n",
       "       [ 5.28760961,  6.32422517],\n",
       "       [ 0.70054703, -1.53712338],\n",
       "       [ 4.9234628 ,  4.61347653],\n",
       "       [ 0.92132644,  1.34943725],\n",
       "       [-0.09769317, -1.35312325],\n",
       "       [-0.738101  ,  0.55236703],\n",
       "       [ 1.24173449,  0.1226006 ],\n",
       "       [-1.31282772, -1.68388606],\n",
       "       [-0.1741153 ,  0.94602777],\n",
       "       [ 4.27134728,  3.97007434],\n",
       "       [ 3.75327934,  3.63334986],\n",
       "       [-0.64024662, -0.71940604],\n",
       "       [ 4.09537693,  3.9622967 ],\n",
       "       [-0.18112585,  1.61315517],\n",
       "       [ 1.16709512, -0.96732707],\n",
       "       [ 0.59002966, -0.41174646],\n",
       "       [-0.05771871,  0.05161764],\n",
       "       [ 4.84991348,  5.56125267],\n",
       "       [-0.30646478, -2.01678893],\n",
       "       [ 5.97400281,  4.45161457],\n",
       "       [ 1.80191256, -0.65691629],\n",
       "       [-1.3968207 ,  0.61853862],\n",
       "       [-0.17855341, -0.50607548],\n",
       "       [ 4.65739895,  4.91041611],\n",
       "       [ 6.04725407,  4.11497445],\n",
       "       [ 5.88792565,  4.34107367],\n",
       "       [ 4.40351621,  4.75431571],\n",
       "       [-0.87185478,  1.39498541],\n",
       "       [ 4.39319933,  5.3669967 ],\n",
       "       [ 0.45836089, -0.44006448],\n",
       "       [ 4.79495844,  5.69311348],\n",
       "       [ 5.68124211,  6.4530493 ],\n",
       "       [-1.16862516, -1.44966634],\n",
       "       [-0.07705085,  0.27012433],\n",
       "       [ 7.88544281,  6.26305072],\n",
       "       [-0.23455793,  0.99155513],\n",
       "       [-1.09227753,  2.17450991],\n",
       "       [ 5.39735762,  5.08535479]])"
      ]
     },
     "execution_count": 99,
     "metadata": {},
     "output_type": "execute_result"
    }
   ],
   "source": [
    "inputs"
   ]
  },
  {
   "cell_type": "markdown",
   "id": "fd9f546a-f4e0-4278-9e44-f1b63e974a71",
   "metadata": {
    "jupyter": {
     "outputs_hidden": true
    },
    "tags": []
   },
   "source": [
    "## Perceptron Learning"
   ]
  },
  {
   "cell_type": "code",
   "execution_count": 30,
   "id": "ce598231-3b4d-4b16-92b4-9aed84574bfd",
   "metadata": {},
   "outputs": [],
   "source": [
    "blobs_random_seed = 42\n",
    "centers = [(0,0), (5,5)]\n",
    "cluster_std = 1\n",
    "frac_test_split = 0.33\n",
    "num_features_for_samples = 2\n",
    "num_samples_total = 50\n",
    "\n",
    "# Generate data\n",
    "inputs, targets = datasets.make_blobs(n_samples = num_samples_total, centers = centers, n_features = num_features_for_samples, cluster_std = cluster_std)"
   ]
  },
  {
   "cell_type": "code",
   "execution_count": 32,
   "id": "cde610ab-639d-48db-a7cc-eef5640e3ecb",
   "metadata": {
    "tags": []
   },
   "outputs": [],
   "source": [
    "weight = np.zeros((3,1)) \n",
    "bias = 0 \n",
    "inputs_modified = np.hstack([inputs,np.ones((50,1))])\n",
    "for x in range(n_epoch ) :  \n",
    "    #multiply weight thwn add bias \n",
    "\n",
    "\tz = np.dot(inputs_modified,weight) + bias \n",
    "\n",
    "\ty_pred = np.where(sigmoid(z)<0.5,0,1)\n",
    "\tfor idx in range(num_samples_total) :\n",
    "\t\tif y_pred[idx] != targets[idx] : \n",
    "\t\t\terror = targets[idx] - y_pred[idx] \n",
    "\t\t\tweight = (weight.T + (error* inputs_modified[idx])).T\n",
    "\t\telse : \n",
    "\t\t\tcontinue "
   ]
  },
  {
   "cell_type": "code",
   "execution_count": 11,
   "id": "a4d480ae-ab9a-4198-832e-4e15609a866c",
   "metadata": {},
   "outputs": [
    {
     "data": {
      "text/plain": [
       "<matplotlib.collections.PathCollection at 0x7f0353eb1d60>"
      ]
     },
     "execution_count": 11,
     "metadata": {},
     "output_type": "execute_result"
    },
    {
     "data": {
      "image/png": "[encoded data removed]",
      "text/plain": [
       "<Figure size 640x480 with 1 Axes>"
      ]
     },
     "metadata": {},
     "output_type": "display_data"
    }
   ],
   "source": [
    "import numpy as np \n",
    "from sklearn import datasets \n",
    "import matplotlib.pyplot as plt \n",
    "## creating dummy data\n",
    "blobs_random_seed = 42\n",
    "centers = [(0,0), (5,5)]\n",
    "cluster_std = 1\n",
    "frac_test_split = 0.33\n",
    "num_features_for_samples = 2\n",
    "num_samples_total = 50\n",
    "\n",
    "# Generate data\n",
    "inputs, targets = datasets.make_blobs(n_samples = num_samples_total, centers = centers, n_features = num_features_for_samples, cluster_std = cluster_std)\n",
    "plt.scatter(x=inputs.T[0][np.where(targets==0)],y=inputs.T[1][np.where(targets==0)],color='red')\n",
    "plt.scatter(x=inputs.T[0][np.where(targets==1)],y=inputs.T[1][np.where(targets==1)],color='blue')"
   ]
  },
  {
   "cell_type": "code",
   "execution_count": 8,
   "id": "85ffad21-8170-4c88-89a9-ea00ae7812e8",
   "metadata": {},
   "outputs": [
    {
     "data": {
      "text/plain": [
       "(array([ 3,  4,  7,  9, 11, 13, 16, 17, 19, 20, 21, 22, 24, 28, 29, 32, 35,\n",
       "        37, 39, 40, 41, 43, 47, 48, 49]),)"
      ]
     },
     "execution_count": 8,
     "metadata": {},
     "output_type": "execute_result"
    }
   ],
   "source": [
    "np.where(targets==0)"
   ]
  },
  {
   "cell_type": "markdown",
   "id": "7f630434-9f54-4060-b021-eab731656f7c",
   "metadata": {},
   "source": [
    "## Single Layer Nueral Nets Backprop"
   ]
  },
  {
   "cell_type": "code",
   "execution_count": 14,
   "id": "f3c8bb3d-0c07-4510-bc0c-f9ee9e28ee23",
   "metadata": {},
   "outputs": [],
   "source": [
    "def sigmoid(z) : \n",
    "    return 1 / (1+np.exp(-z))"
   ]
  },
  {
   "cell_type": "code",
   "execution_count": 15,
   "id": "0f33dc7f-fd74-40eb-a559-1e94aa8f5575",
   "metadata": {},
   "outputs": [],
   "source": [
    "weight = np.zeros((3,1)) \n",
    "bias = 0 \n",
    "weight1 = 0 \n",
    "weight2 = 0 \n",
    "inputs_modified = np.hstack([inputs,np.ones((50,1))])\n",
    "lr = 0.0001\n",
    "loss = []\n",
    "n_epoch=100\n",
    "for x in range(n_epoch ) :  \n",
    "    #multiply weight thwn add bias \n",
    "\tz = inputs.T[0]*weight1 + inputs.T[1]*weight2 + bias \n",
    "\tpredicted_proba = sigmoid(z)\n",
    "    #calculate loss \n",
    "\tneg_log_loss = -np.dot(targets,predicted_proba) - np.dot((1-targets),(1-predicted_proba))\n",
    "\tloss.append(neg_log_loss)\n",
    "\t#calculate derivative loss with respect to derivative weight feature 1\n",
    "\td_weight1 = np.dot(inputs.T[0], (predicted_proba - targets))\n",
    "    #calculate derivative loss with respect to derivative weight feature 2\n",
    "\td_weight2 = np.dot(inputs.T[1], (predicted_proba - targets))\n",
    "    #calculate derivative loss with respect to derivative weight bias\n",
    "\td_bias = np.sum(predicted_proba-targets)\n",
    "    #update weight \n",
    "\tweight1-=lr*(d_weight1)\n",
    "\tweight2-=lr*(d_weight2)\n",
    "\tbias-=lr*(d_bias)"
   ]
  },
  {
   "cell_type": "code",
   "execution_count": 35,
   "id": "bde2db52-5740-4e04-9be1-a1ce25d29868",
   "metadata": {},
   "outputs": [
    {
     "data": {
      "text/plain": [
       "<matplotlib.collections.PathCollection at 0x7f1035709ac0>"
      ]
     },
     "execution_count": 35,
     "metadata": {},
     "output_type": "execute_result"
    },
    {
     "data": {
      "image/png": "[encoded data removed]",
      "text/plain": [
       "<Figure size 640x480 with 1 Axes>"
      ]
     },
     "metadata": {},
     "output_type": "display_data"
    }
   ],
   "source": [
    "\n",
    "plt.title('Loss Plot in 100 Epochs')\n",
    "plt.scatter(y=loss,x=[x for x in range(100)])"
   ]
  },
  {
   "cell_type": "code",
   "execution_count": 27,
   "id": "9e7b3c23-2835-4953-bf0d-da68c5769c55",
   "metadata": {},
   "outputs": [],
   "source": [
    "x1 = np.linspace(-2,2)\n",
    "x2 = -(weight1/weight2*inputs.T[0])-(bias/weight2)"
   ]
  },
  {
   "cell_type": "code",
   "execution_count": 25,
   "id": "60fb105a-2fc5-4d7a-ba16-cfc90f890028",
   "metadata": {},
   "outputs": [
    {
     "data": {
      "text/plain": [
       "array([ 1.20646664, -4.48649133, -1.1974174 ,  1.8564499 , -2.35853736,\n",
       "        0.17373988, -2.87896565, -2.65018161, -2.83321774, -1.65811417,\n",
       "       -4.44021922, -3.46102066, -3.85413276, -2.81500891,  1.37834275,\n",
       "       -5.12479855,  1.49674431, -3.79191096, -0.80674921, -0.03648706,\n",
       "        0.86802731, -0.35795202, -3.70359487, -3.99168968, -0.4133344 ,\n",
       "       -1.01139515, -2.95348159, -3.99608685, -4.34350171, -0.31327365,\n",
       "        0.78972832, -1.69571641, -2.2797271 , -4.00815359,  0.18569772,\n",
       "       -3.78576154, -1.10160571, -2.81028409, -2.60353953,  0.24058445,\n",
       "       -2.6464397 ,  0.09050112, -4.08149057, -0.08206089, -3.81561319,\n",
       "       -0.35656914, -0.33102122, -0.6573571 ,  0.59398118,  0.58347626])"
      ]
     },
     "execution_count": 25,
     "metadata": {},
     "output_type": "execute_result"
    }
   ],
   "source": []
  },
  {
   "cell_type": "code",
   "execution_count": null,
   "id": "3c8e543f-702b-4a5b-a184-63b883be3296",
   "metadata": {},
   "outputs": [],
   "source": []
  }
 ],
 "metadata": {
  "kernelspec": {
   "display_name": "Python 3 (ipykernel)",
   "language": "python",
   "name": "python3"
  },
  "language_info": {
   "codemirror_mode": {
    "name": "ipython",
    "version": 3
   },
   "file_extension": ".py",
   "mimetype": "text/x-python",
   "name": "python",
   "nbconvert_exporter": "python",
   "pygments_lexer": "ipython3",
   "version": "3.8.10"
  }
 },
 "nbformat": 4,
 "nbformat_minor": 5
}
