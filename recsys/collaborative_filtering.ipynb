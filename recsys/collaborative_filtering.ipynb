{
 "cells": [
  {
   "attachments": {},
   "cell_type": "markdown",
   "metadata": {},
   "source": [
    "## Collaborative Filtering \n",
    "\n",
    "- Item Based \n",
    "    - Explicit Rating\n",
    "    - Implicit Rating\n",
    "- User Based\n",
    "    - Explicit Rating\n",
    "    - Implicit Rating\n",
    "\n",
    "- Converting Collaborative Filtering into Optimization Problem\n",
    "    - Metrics : \n",
    "      - Error : MSE , MAE\n",
    "      - Accuracy : Precision / Recall  \n",
    "      - Ranking : AUC / MAP at K \n",
    "    - SLIM"
   ]
  },
  {
   "cell_type": "code",
   "execution_count": 177,
   "metadata": {},
   "outputs": [],
   "source": [
    "import pandas as pd \n",
    "import numpy as np \n",
    "from numpy.linalg import norm\n",
    "from scipy.spatial.distance import pdist,squareform\n",
    "\n",
    "def cosine_similarities(a,b) : \n",
    "    norm_a = np.sqrt(np.dot(a,a))\n",
    "    norm_b = np.sqrt(np.dot(b,b))\n",
    "    cosine_similarities = np.dot(a,b) / np.dot(norm_a,norm_b)\n",
    "    return cosine_similarities"
   ]
  },
  {
   "attachments": {},
   "cell_type": "markdown",
   "metadata": {},
   "source": [
    "### Converting Collaborative Filtering into Optimization Problem\n",
    "\n",
    "For More Structured Term , we will Learning Theory Setup From Yasser Abu Mustafa\n",
    "\n",
    "- Input and Output Pair -> History of Ratings \n",
    "- True Function -> Unknown \n",
    "- Hypothesis Function \n",
    "- Optimization \n",
    "  - Problem : Minimization \n",
    "  - Objective : Minimize Error \n",
    "  - Optimization Algorithm -> Gradient Descent/ ALS/ SVD, etc\n",
    "- Best Candidate"
   ]
  },
  {
   "attachments": {},
   "cell_type": "markdown",
   "metadata": {},
   "source": [
    "### User Based Collaborative Filtering"
   ]
  },
  {
   "attachments": {},
   "cell_type": "markdown",
   "metadata": {},
   "source": [
    "### Implicit Rating"
   ]
  },
  {
   "cell_type": "code",
   "execution_count": 123,
   "metadata": {},
   "outputs": [
    {
     "name": "stdout",
     "output_type": "stream",
     "text": [
      "URM [[0 0 1 1 1]\n",
      " [0 1 0 0 1]]\n",
      "User 1 [0 0 1 1 1]\n",
      "User 2 [0 1 0 0 1]\n",
      "Cosine Similarity User 1 & 2 0.40824829046386296\n"
     ]
    }
   ],
   "source": [
    "## Vectorized Way\n",
    "#create random user rating matrix with 2 users and 3 items\n",
    "user_rating_matrix = np.random.randint(2,size=(2,5))\n",
    "print('URM',user_rating_matrix)\n",
    "user_1 = user_rating_matrix[0]\n",
    "print('User 1',user_1)\n",
    "user_2 = user_rating_matrix[1]\n",
    "print('User 2',user_2)\n",
    "\n",
    "## calculate similarity between user 1 and 2 \n",
    "sim = cosine_similarities(user_1,user_2)\n",
    "print('Cosine Similarity User 1 & 2',sim)"
   ]
  },
  {
   "cell_type": "code",
   "execution_count": 124,
   "metadata": {},
   "outputs": [
    {
     "data": {
      "text/plain": [
       "0.40824829046386313"
      ]
     },
     "execution_count": 124,
     "metadata": {},
     "output_type": "execute_result"
    }
   ],
   "source": [
    "from scipy import spatial\n",
    "\n",
    "result = 1 - spatial.distance.cosine(user_1,user_2)\n",
    "result"
   ]
  },
  {
   "cell_type": "code",
   "execution_count": 125,
   "metadata": {},
   "outputs": [
    {
     "name": "stdout",
     "output_type": "stream",
     "text": [
      "Rating of User 1 at idx : 0,user_1_rating 0\n",
      "Rating of User 2 at idx : 0,user_2_rating 0\n",
      "Rating of User 1 at idx : 1,user_1_rating 0\n",
      "Rating of User 2 at idx : 1,user_2_rating 1\n",
      "Rating of User 1 at idx : 2,user_1_rating 1\n",
      "Rating of User 2 at idx : 2,user_2_rating 0\n",
      "Rating of User 1 at idx : 3,user_1_rating 1\n",
      "Rating of User 2 at idx : 3,user_2_rating 0\n",
      "Rating of User 1 at idx : 4,user_1_rating 1\n",
      "Rating of User 2 at idx : 4,user_2_rating 1\n",
      "1 3\n",
      "2 2\n"
     ]
    },
    {
     "data": {
      "text/plain": [
       "0.4082482904638631"
      ]
     },
     "execution_count": 125,
     "metadata": {},
     "output_type": "execute_result"
    }
   ],
   "source": [
    "# Non Vectorized way\n",
    "n_item = 5\n",
    "nominator = 0 \n",
    "denominator = 0 \n",
    "user_1_r2 = 0\n",
    "user_2_r2 = 0\n",
    "for item_idx in range(n_item) : \n",
    "    user_1_rating = user_rating_matrix[0][item_idx]\n",
    "    print(f'Rating of User 1 at idx : {item_idx},user_1_rating',user_1_rating)\n",
    "    user_2_rating = user_rating_matrix[1][item_idx]\n",
    "    print(f'Rating of User 2 at idx : {item_idx},user_2_rating',user_2_rating)\n",
    "    nominator += user_1_rating*user_2_rating\n",
    "    user_1_r2 += np.power(user_1_rating,2)\n",
    "    user_2_r2 += np.power(user_2_rating,2)\n",
    "print('1',user_1_r2)\n",
    "print('2',user_2_r2)\n",
    "similarity_1_2 = nominator / (np.sqrt(user_1_r2*user_2_r2))\n",
    "similarity_1_2"
   ]
  },
  {
   "cell_type": "code",
   "execution_count": 127,
   "metadata": {},
   "outputs": [
    {
     "data": {
      "text/plain": [
       "1"
      ]
     },
     "execution_count": 127,
     "metadata": {},
     "output_type": "execute_result"
    }
   ],
   "source": [
    "#calculate estimated ratings \n",
    "i = 2\n",
    "\n",
    "# let say we want to compute the rating from user u with the item 1, givem the fact that user v has rated it \n",
    "\n",
    "r_hat_ui = user_2[i] * cosine_similarities(user_1,user_2)\n",
    "r_hat_ui\n",
    "\n",
    "#Calculate Difference \n",
    "user_1[i]\n",
    "\n"
   ]
  },
  {
   "attachments": {
    "image.png": {
     "image/png": "[encoded data removed]"
    }
   },
   "cell_type": "markdown",
   "metadata": {},
   "source": [
    "### User Based Neighbouring Collaborative Filtering\n",
    "\n",
    "\n",
    "\n",
    "Predicting Ratings\n",
    "\n",
    "![image.png](attachment:image.png)"
   ]
  },
  {
   "cell_type": "code",
   "execution_count": 190,
   "metadata": {},
   "outputs": [
    {
     "data": {
      "text/plain": [
       "2"
      ]
     },
     "execution_count": 190,
     "metadata": {},
     "output_type": "execute_result"
    }
   ],
   "source": [
    "user_rating_matrix[user_to_predict][item_to_predict]"
   ]
  },
  {
   "cell_type": "code",
   "execution_count": 191,
   "metadata": {},
   "outputs": [
    {
     "name": "stdout",
     "output_type": "stream",
     "text": [
      "User 1 Ratings on Item 10, Predicted :0.19336426160588588, Actual 1\n"
     ]
    }
   ],
   "source": [
    "n_items = 10 \n",
    "n_users = 10 \n",
    "user_to_predict = 0 \n",
    "item_to_predict = 9 \n",
    "user_rating_matrix = np.random.randint(5,size=(n_users,n_items))\n",
    "\n",
    "#creating user similarities matrix \n",
    "user_similarities = squareform(pdist(user_rating_matrix, metric='cosine'))\n",
    "user_similarities\n",
    "\n",
    "\n",
    "#predict user 1 rating to item 10 \n",
    "avg_rating = np.mean(user_rating_matrix[0])\n",
    "avg_rating\n",
    "\n",
    "\n",
    "# get 5 most similar user \n",
    "user_to_predict\n",
    "user_5_idx = user_similarities[user_to_predict].argsort()[-5:][::-1]\n",
    "\n",
    "\n",
    "#iterate over user_5_idx \n",
    "user_0_ratings_on_item_10 = 0 \n",
    "\n",
    "#for dividing the similarities \n",
    "total_similarities = 0 \n",
    "for idx in user_5_idx : \n",
    "    user_u = user_rating_matrix[0]\n",
    "    user_v = user_rating_matrix[idx]\n",
    "    similarities_u_v = cosine_similarities(user_u,user_v)\n",
    "    total_similarities+=similarities_u_v\n",
    "    #get user_v average ratings \n",
    "    user_v_avg_rating = np.mean(user_v)\n",
    "    \n",
    "    #get user_v ratings on item_to_predict \n",
    "    r_v_item = user_v[item_to_predict]\n",
    "    \n",
    "    #substract mean from user_v rating on item to predict \n",
    "    r_user_v_adjusted = r_v_item - user_v_avg_rating\n",
    "    \n",
    "    user_0_ratings_on_item_10 += similarities_u_v * r_user_v_adjusted\n",
    "print(f'User 1 Ratings on Item 10, Predicted :{user_0_ratings_on_item_10/total_similarities}, Actual {user_rating_matrix[user_to_predict][item_to_predict]}')\n"
   ]
  },
  {
   "cell_type": "code",
   "execution_count": null,
   "metadata": {},
   "outputs": [],
   "source": []
  },
  {
   "cell_type": "code",
   "execution_count": null,
   "metadata": {},
   "outputs": [],
   "source": []
  },
  {
   "attachments": {},
   "cell_type": "markdown",
   "metadata": {},
   "source": [
    "### Item Based Collaborative Filtering"
   ]
  },
  {
   "cell_type": "code",
   "execution_count": 132,
   "metadata": {},
   "outputs": [
    {
     "data": {
      "text/plain": [
       "0.7175718130416573"
      ]
     },
     "execution_count": 132,
     "metadata": {},
     "output_type": "execute_result"
    }
   ],
   "source": [
    "# Explicit Ratings \n",
    "#first create user rating_matrix\n",
    "n_users= 10 \n",
    "n_items = 10 \n",
    "user_rating_matrix = np.random.randint(10,size=(n_users,n_items))\n",
    "\n",
    "\n",
    "\n",
    "\n",
    "#item_similarity , row represent user and column represent items \n",
    "# to calculte similarity \n",
    "user_rating_matrix_pivoted = user_rating_matrix.T\n",
    "\n",
    "\n",
    "# for example we want to calculate the similarity between item 2 and 5 \n",
    "item_3 = user_rating_matrix_pivoted[2]\n",
    "item_5 = user_rating_matrix_pivoted[4]\n",
    "\n",
    "\n",
    "cosine_similarities(item_3,item_5)\n",
    "\n",
    "\n",
    "\n",
    "\n",
    "\n"
   ]
  },
  {
   "attachments": {},
   "cell_type": "markdown",
   "metadata": {},
   "source": []
  },
  {
   "cell_type": "code",
   "execution_count": 149,
   "metadata": {},
   "outputs": [],
   "source": [
    "\n",
    "item_idx_to_find_ratings = 0 \n",
    "item_similarity = squareform(pdist(user_rating_matrix_pivoted, metric='cosine'))\n",
    "item_similarity\n",
    "\n",
    "pd.DataFrame(item_similarity)\n",
    "\n",
    "\n",
    "#let say we will query 5 similar neighbour items \n",
    "similar_5_idx = item_similarity[item_idx_to_find_ratings].argsort()[-5:][::-1]\n",
    "\n",
    "\n",
    "\n"
   ]
  },
  {
   "attachments": {
    "image.png": {
     "image/png": "[encoded data removed]"
    }
   },
   "cell_type": "markdown",
   "metadata": {},
   "source": [
    " Predicting Ratings Based on the K Neighbour\n",
    "![image.png](attachment:image.png)"
   ]
  },
  {
   "cell_type": "code",
   "execution_count": 154,
   "metadata": {},
   "outputs": [
    {
     "name": "stdout",
     "output_type": "stream",
     "text": [
      "True Rating :  1 and Predicted Ratings  : 5.0\n"
     ]
    }
   ],
   "source": [
    "#now we want to infer the ratings of item 0 from user 5 \n",
    "user_5 = user_rating_matrix[4]\n",
    "nominator = 0 \n",
    "denominator = 0 \n",
    "for item_idx in similar_5_idx : \n",
    "    #find rating of item_idx in \n",
    "    rating_user_5_on_item_idx = user_5[item_idx]\n",
    "    #calculate_similarity between item_idx with item 0 \n",
    "    item_0_vector = user_rating_matrix_pivoted[0]\n",
    "    item_idx_vector = user_rating_matrix_pivoted[0]\n",
    "    similarity = cosine_similarities(item_0_vector,item_idx_vector)\n",
    "    nominator += rating_user_5_on_item_idx*similarity\n",
    "    denominator += similarity\n",
    "\n",
    "\n",
    "predicted_ratings = nominator/ denominator\n",
    "predicted_ratings\n",
    "\n",
    "true_rating = user_5[0]\n",
    "\n",
    "print(f'True Rating :  {true_rating} and Predicted Ratings  : {predicted_ratings}')"
   ]
  },
  {
   "attachments": {},
   "cell_type": "markdown",
   "metadata": {},
   "source": []
  },
  {
   "attachments": {
    "image.png": {
     "image/png": "[encoded data removed]"
    }
   },
   "cell_type": "markdown",
   "metadata": {},
   "source": [
    "## SLIM Implementation\n",
    "\n",
    "![image.png](attachment:image.png)"
   ]
  },
  {
   "cell_type": "code",
   "execution_count": 171,
   "metadata": {},
   "outputs": [],
   "source": [
    "from scipy.sparse import lil_matrix\n",
    "l1_reg=0.001\n",
    "l2_reg=0.0001\n",
    "from sklearn.linear_model import SGDRegressor\n",
    "alpha = l1_reg + l2_reg\n",
    "model = SGDRegressor(\n",
    "    penalty='elasticnet',\n",
    "    fit_intercept=False,\n",
    "    alpha=alpha,\n",
    "    l1_ratio=l1_reg,\n",
    ")"
   ]
  },
  {
   "cell_type": "code",
   "execution_count": 172,
   "metadata": {},
   "outputs": [],
   "source": [
    "n_users = 100 \n",
    "n_items = 20\n",
    "# A denoted as user rating matrix towards an item \n",
    "A = np.random.randint(10,size=(n_users,n_items))\n",
    "\n",
    "\n",
    "W = np.zeros(shape=(n_items, n_items))\n",
    "\n",
    "for j in range(n_items):\n",
    "    aj = A[:, j].copy()\n",
    "    # We need to remove the column j before training\n",
    "    #remove column j and convert as a target \n",
    "    A[:, j] = 0\n",
    "    #fit A as feature (X) with removed j , Y (rating predicted)\n",
    "    model.fit(A, aj.ravel())\n",
    "    # We need to reinstate the matrix\n",
    "    A[:, j] = aj\n",
    "\n",
    "    w = model.coef_\n",
    "\n",
    "    \n",
    "    w[w < 0] = 0\n",
    "\n",
    "    for el in w.nonzero()[0]:\n",
    "        W[(el, j)] = w[el]\n"
   ]
  },
  {
   "cell_type": "code",
   "execution_count": 173,
   "metadata": {},
   "outputs": [
    {
     "data": {
      "text/plain": [
       "4.715353079377602"
      ]
     },
     "execution_count": 173,
     "metadata": {},
     "output_type": "execute_result"
    }
   ],
   "source": [
    "# let say we want to predict user 1 item then we multiply each coefficient in W in row 1 to its rating \n",
    "user_1 = A[0]\n",
    "rating = 0 \n",
    "for j_el in user_1 : \n",
    "    r_user_0_el = user_1[j_el]\n",
    "    #get the weight \n",
    "    weight = W[0][j_el]\n",
    "    rating += weight* r_user_0_el\n",
    "rating"
   ]
  },
  {
   "cell_type": "code",
   "execution_count": 175,
   "metadata": {},
   "outputs": [
    {
     "data": {
      "text/plain": [
       "array([[0.00000000e+00, 9.47006602e-02, 7.65076246e-02, 5.11443300e-02,\n",
       "        1.18727820e-01, 2.72367344e-02, 9.84660546e-02, 1.50103021e-01,\n",
       "        0.00000000e+00, 1.52284565e-01, 8.45334951e-02, 7.30251182e-02,\n",
       "        0.00000000e+00, 0.00000000e+00, 5.47922224e-02, 9.00003929e-02,\n",
       "        0.00000000e+00, 0.00000000e+00, 5.36299112e-02, 9.94288852e-02],\n",
       "       [9.74560591e-02, 0.00000000e+00, 0.00000000e+00, 8.22254449e-02,\n",
       "        5.12877832e-02, 9.42891557e-02, 5.51197087e-02, 0.00000000e+00,\n",
       "        6.04020239e-02, 1.86671688e-02, 2.29914182e-01, 5.65915405e-02,\n",
       "        8.25559366e-02, 0.00000000e+00, 6.20278939e-02, 1.14916706e-01,\n",
       "        1.28799092e-01, 1.48364948e-01, 3.37461448e-02, 5.87554974e-02],\n",
       "       [1.18865434e-01, 0.00000000e+00, 0.00000000e+00, 9.48467124e-02,\n",
       "        4.10155112e-02, 2.52175837e-02, 8.52385030e-02, 0.00000000e+00,\n",
       "        5.42218309e-02, 1.38517435e-01, 8.85820007e-02, 4.77204331e-02,\n",
       "        2.15455195e-01, 0.00000000e+00, 1.47338181e-01, 2.67368924e-02,\n",
       "        0.00000000e+00, 1.58384068e-01, 0.00000000e+00, 0.00000000e+00],\n",
       "       [4.83903282e-02, 1.75923451e-01, 2.20247033e-02, 0.00000000e+00,\n",
       "        3.69717879e-02, 7.16178056e-02, 0.00000000e+00, 3.71541702e-01,\n",
       "        0.00000000e+00, 0.00000000e+00, 2.38225474e-01, 1.86929603e-01,\n",
       "        8.97691772e-02, 0.00000000e+00, 0.00000000e+00, 2.38868492e-01,\n",
       "        6.70614101e-02, 2.26413569e-01, 0.00000000e+00, 0.00000000e+00],\n",
       "       [1.02789419e-01, 1.86433917e-01, 0.00000000e+00, 1.25234817e-02,\n",
       "        0.00000000e+00, 3.49233694e-02, 0.00000000e+00, 0.00000000e+00,\n",
       "        8.53302840e-02, 7.52997802e-02, 7.28174809e-02, 4.14625958e-01,\n",
       "        1.85203295e-02, 2.39765583e-01, 6.05729273e-02, 1.82479184e-01,\n",
       "        0.00000000e+00, 1.33248266e-01, 0.00000000e+00, 0.00000000e+00],\n",
       "       [1.29772033e-01, 6.13742868e-02, 0.00000000e+00, 1.28628899e-02,\n",
       "        6.41209018e-02, 0.00000000e+00, 3.23403093e-01, 0.00000000e+00,\n",
       "        0.00000000e+00, 1.88976723e-01, 0.00000000e+00, 0.00000000e+00,\n",
       "        3.36837911e-01, 9.73078669e-02, 0.00000000e+00, 1.66782576e-01,\n",
       "        2.77538783e-01, 1.40549518e-01, 0.00000000e+00, 3.59208072e-01],\n",
       "       [2.20446229e-01, 9.31341823e-02, 5.67058100e-02, 0.00000000e+00,\n",
       "        0.00000000e+00, 1.81342194e-01, 0.00000000e+00, 1.04797207e-01,\n",
       "        3.30288093e-01, 0.00000000e+00, 5.17929371e-02, 2.52295008e-01,\n",
       "        0.00000000e+00, 7.30344372e-02, 0.00000000e+00, 0.00000000e+00,\n",
       "        1.22297430e-03, 0.00000000e+00, 1.83105109e-01, 0.00000000e+00],\n",
       "       [5.67728221e-02, 1.78341353e-02, 0.00000000e+00, 3.32285447e-01,\n",
       "        0.00000000e+00, 0.00000000e+00, 8.52281875e-02, 0.00000000e+00,\n",
       "        8.88068974e-02, 1.34787731e-01, 0.00000000e+00, 3.66931009e-02,\n",
       "        2.12764111e-01, 1.68447703e-01, 0.00000000e+00, 9.46689133e-02,\n",
       "        1.35426793e-01, 1.25711263e-03, 2.60575562e-02, 1.78034736e-01],\n",
       "       [0.00000000e+00, 7.25308102e-02, 0.00000000e+00, 2.72647593e-03,\n",
       "        5.65083252e-02, 0.00000000e+00, 2.87588028e-01, 7.99505659e-02,\n",
       "        0.00000000e+00, 0.00000000e+00, 1.78816179e-01, 0.00000000e+00,\n",
       "        6.72089745e-02, 1.31405091e-01, 0.00000000e+00, 0.00000000e+00,\n",
       "        1.50723711e-01, 1.26311157e-01, 3.23623261e-02, 3.31692608e-01],\n",
       "       [1.99498439e-02, 0.00000000e+00, 1.00228038e-01, 5.22303482e-02,\n",
       "        1.67553671e-01, 1.05848084e-01, 0.00000000e+00, 8.98478098e-02,\n",
       "        0.00000000e+00, 0.00000000e+00, 2.66147972e-02, 3.29830627e-02,\n",
       "        2.94884321e-02, 8.82428937e-02, 0.00000000e+00, 8.18101465e-02,\n",
       "        1.07493171e-01, 1.65471527e-02, 4.54828474e-01, 1.02200438e-03],\n",
       "       [1.44808665e-01, 2.32571001e-01, 2.00861492e-01, 9.91285513e-02,\n",
       "        2.11243058e-01, 0.00000000e+00, 8.13728141e-02, 0.00000000e+00,\n",
       "        9.85766329e-02, 4.91018434e-02, 0.00000000e+00, 0.00000000e+00,\n",
       "        0.00000000e+00, 7.87320744e-02, 1.83465990e-01, 1.51821217e-01,\n",
       "        8.37316262e-02, 0.00000000e+00, 1.77070247e-01, 2.97981215e-01],\n",
       "       [8.56417161e-05, 8.40419874e-02, 0.00000000e+00, 1.06452378e-01,\n",
       "        3.69307642e-01, 0.00000000e+00, 2.69075632e-01, 0.00000000e+00,\n",
       "        0.00000000e+00, 0.00000000e+00, 0.00000000e+00, 0.00000000e+00,\n",
       "        1.42960228e-01, 6.36602349e-02, 2.39454779e-01, 0.00000000e+00,\n",
       "        1.80500356e-01, 5.04134983e-02, 1.01751470e-01, 2.35045985e-01],\n",
       "       [0.00000000e+00, 2.65849384e-02, 2.01078296e-01, 1.96296125e-01,\n",
       "        0.00000000e+00, 2.22110243e-01, 0.00000000e+00, 2.67093053e-01,\n",
       "        1.09831281e-01, 0.00000000e+00, 0.00000000e+00, 1.35310866e-01,\n",
       "        0.00000000e+00, 1.86163185e-02, 1.55368299e-01, 9.95024724e-03,\n",
       "        1.83893062e-02, 4.78023493e-02, 2.98109007e-01, 0.00000000e+00],\n",
       "       [0.00000000e+00, 0.00000000e+00, 1.02331288e-01, 0.00000000e+00,\n",
       "        2.76139001e-01, 2.54728511e-01, 8.22970742e-02, 1.76168141e-01,\n",
       "        7.10950025e-02, 8.19515451e-02, 1.56879870e-01, 1.30430168e-01,\n",
       "        5.77519847e-02, 0.00000000e+00, 5.02126129e-02, 0.00000000e+00,\n",
       "        8.52531612e-02, 7.94916733e-03, 0.00000000e+00, 8.18724161e-02],\n",
       "       [1.55291159e-01, 1.89526953e-02, 4.01136157e-02, 5.70683887e-03,\n",
       "        0.00000000e+00, 0.00000000e+00, 2.75244487e-02, 6.17477726e-02,\n",
       "        0.00000000e+00, 0.00000000e+00, 9.81767213e-02, 1.88212559e-01,\n",
       "        1.26343711e-01, 1.21418598e-01, 0.00000000e+00, 7.24272766e-02,\n",
       "        8.01803448e-02, 2.31891636e-01, 0.00000000e+00, 0.00000000e+00],\n",
       "       [0.00000000e+00, 2.09231182e-01, 0.00000000e+00, 1.43019475e-01,\n",
       "        2.21181919e-01, 2.67399169e-02, 1.34248960e-01, 9.05398881e-02,\n",
       "        0.00000000e+00, 1.11321697e-02, 1.24135152e-01, 0.00000000e+00,\n",
       "        1.48957258e-01, 2.22970248e-02, 2.11843639e-01, 0.00000000e+00,\n",
       "        4.13048718e-02, 0.00000000e+00, 1.93720130e-01, 7.13802073e-02],\n",
       "       [0.00000000e+00, 8.87706525e-02, 0.00000000e+00, 7.90807786e-02,\n",
       "        0.00000000e+00, 2.20183744e-01, 6.46579852e-03, 1.30093294e-01,\n",
       "        7.46782057e-02, 5.07696063e-02, 8.01544184e-02, 2.32439198e-01,\n",
       "        0.00000000e+00, 1.69570942e-01, 0.00000000e+00, 0.00000000e+00,\n",
       "        0.00000000e+00, 2.13896789e-01, 1.40528911e-01, 0.00000000e+00],\n",
       "       [0.00000000e+00, 7.00108054e-02, 8.22986188e-02, 1.48314056e-01,\n",
       "        3.52389648e-02, 2.37158974e-02, 0.00000000e+00, 0.00000000e+00,\n",
       "        1.91321060e-01, 5.28709410e-02, 0.00000000e+00, 0.00000000e+00,\n",
       "        8.21355899e-02, 1.96667105e-01, 2.64665928e-01, 0.00000000e+00,\n",
       "        1.41963187e-01, 0.00000000e+00, 0.00000000e+00, 1.91448520e-01],\n",
       "       [2.38405365e-01, 2.62530410e-02, 0.00000000e+00, 0.00000000e+00,\n",
       "        0.00000000e+00, 0.00000000e+00, 1.13779164e-01, 0.00000000e+00,\n",
       "        0.00000000e+00, 4.21344656e-01, 1.48630395e-01, 1.96009957e-01,\n",
       "        3.05661821e-01, 0.00000000e+00, 0.00000000e+00, 1.13869668e-01,\n",
       "        2.58635926e-01, 2.37430090e-01, 0.00000000e+00, 4.44983761e-02],\n",
       "       [8.09137552e-02, 1.51519082e-02, 3.04993414e-02, 0.00000000e+00,\n",
       "        7.25191731e-02, 2.90723140e-01, 0.00000000e+00, 0.00000000e+00,\n",
       "        3.43074636e-01, 1.34257226e-01, 1.23932448e-01, 2.48932050e-01,\n",
       "        5.88216258e-02, 1.23987441e-01, 0.00000000e+00, 1.58813877e-01,\n",
       "        0.00000000e+00, 8.48452336e-02, 0.00000000e+00, 0.00000000e+00]])"
      ]
     },
     "execution_count": 175,
     "metadata": {},
     "output_type": "execute_result"
    }
   ],
   "source": [
    "W"
   ]
  },
  {
   "cell_type": "markdown",
   "metadata": {},
   "source": []
  },
  {
   "cell_type": "code",
   "execution_count": null,
   "metadata": {},
   "outputs": [],
   "source": [
    "#implement SLIM algorithm from scratch"
   ]
  },
  {
   "attachments": {},
   "cell_type": "markdown",
   "metadata": {},
   "source": []
  }
 ],
 "metadata": {
  "kernelspec": {
   "display_name": "Python 3",
   "language": "python",
   "name": "python3"
  },
  "language_info": {
   "codemirror_mode": {
    "name": "ipython",
    "version": 3
   },
   "file_extension": ".py",
   "mimetype": "text/x-python",
   "name": "python",
   "nbconvert_exporter": "python",
   "pygments_lexer": "ipython3",
   "version": "3.8.5"
  },
  "orig_nbformat": 4
 },
 "nbformat": 4,
 "nbformat_minor": 2
}
