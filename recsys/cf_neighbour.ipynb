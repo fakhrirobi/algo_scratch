{
 "cells": [
  {
   "cell_type": "code",
   "execution_count": 1,
   "metadata": {},
   "outputs": [
    {
     "name": "stderr",
     "output_type": "stream",
     "text": [
      "c:\\Users\\Fakhri Robi Aulia\\AppData\\Local\\Programs\\Python\\Python38\\lib\\site-packages\\numpy\\_distributor_init.py:30: UserWarning: loaded more than 1 DLL from .libs:\n",
      "c:\\Users\\Fakhri Robi Aulia\\AppData\\Local\\Programs\\Python\\Python38\\lib\\site-packages\\numpy\\.libs\\libopenblas.EL2C6PLE4ZYW3ECEVIV3OXXGRN2NRFM2.gfortran-win_amd64.dll\n",
      "c:\\Users\\Fakhri Robi Aulia\\AppData\\Local\\Programs\\Python\\Python38\\lib\\site-packages\\numpy\\.libs\\libopenblas.FB5AE2TYXYH2IJRDKGDGQ3XBKLKTF43H.gfortran-win_amd64.dll\n",
      "c:\\Users\\Fakhri Robi Aulia\\AppData\\Local\\Programs\\Python\\Python38\\lib\\site-packages\\numpy\\.libs\\libopenblas.NOIJJG62EMASZI6NYURL6JBKM4EVBGM7.gfortran-win_amd64.dll\n",
      "c:\\Users\\Fakhri Robi Aulia\\AppData\\Local\\Programs\\Python\\Python38\\lib\\site-packages\\numpy\\.libs\\libopenblas64__v0.3.21-gcc_10_3_0.dll\n",
      "  warnings.warn(\"loaded more than 1 DLL from .libs:\"\n",
      "c:\\Users\\Fakhri Robi Aulia\\AppData\\Local\\Programs\\Python\\Python38\\lib\\site-packages\\scipy\\__init__.py:146: UserWarning: A NumPy version >=1.16.5 and <1.23.0 is required for this version of SciPy (detected version 1.24.2\n",
      "  warnings.warn(f\"A NumPy version >={np_minversion} and <{np_maxversion}\"\n"
     ]
    }
   ],
   "source": [
    "import pandas as pd \n",
    "import numpy as np \n",
    "from numpy.linalg import norm\n",
    "from scipy.spatial.distance import pdist,squareform\n",
    "\n",
    "def cosine_similarities(a,b) : \n",
    "    norm_a = np.sqrt(np.dot(a,a))\n",
    "    norm_b = np.sqrt(np.dot(b,b))\n",
    "    cosine_similarities = np.dot(a,b) / np.dot(norm_a,norm_b)\n",
    "    return cosine_similarities"
   ]
  },
  {
   "attachments": {},
   "cell_type": "markdown",
   "metadata": {},
   "source": [
    "## Dimensionality Reduction Method & Neighbourhood Method"
   ]
  },
  {
   "attachments": {},
   "cell_type": "markdown",
   "metadata": {},
   "source": [
    "Dimensionality Reduction is extension of neighbourhood methods , Problem with neighbourhood collaborative filtering is they are sparse-> to tackle the issue the dimensionality is the solution providing another lower representasion.\n",
    "\n",
    "There are two types of Dimensionality Reduction : \n",
    "1. Row Wise (User) Latent Factor or Column Wise (Item) Latent Factor \n",
    "2. Utilizing Both Simultaneously\n",
    "\n",
    "\n",
    "In this Notebook We are going to Cover only the first one. \n",
    "\n",
    "\n",
    "How to do that \n",
    "1. Given User Rating Metrics R with m user and n items (mxn) -> We are going to use PCA to create URM R' with size of (mxd), d<=n"
   ]
  },
  {
   "attachments": {},
   "cell_type": "markdown",
   "metadata": {},
   "source": [
    "## Dimensionality Reduction Method using SVD"
   ]
  },
  {
   "cell_type": "code",
   "execution_count": 86,
   "metadata": {},
   "outputs": [
    {
     "name": "stdout",
     "output_type": "stream",
     "text": [
      "User 1 Ratings on Item 10, Predicted :2.806435084989861, Actual 4.0\n"
     ]
    }
   ],
   "source": [
    "#Implementation \n",
    "# Create User Rating Matrix R\n",
    "m = 50 \n",
    "n = 50  \n",
    "max_rating = 5 \n",
    "R =  np.random.randint(max_rating,size=(m,n))\n",
    "\n",
    "#replacing zero with np.NaN\n",
    "R = np.where(R==0, np.nan, R)\n",
    "#however the PCA needs non missing value matrix \n",
    "\n",
    "#handling missing values \n",
    "R_transpose = R.T\n",
    "for col in range(n) : \n",
    "   mean = np.nanmean(R_transpose[col])\n",
    "   R_transpose[col][np.isnan(R_transpose[col])] = mean\n",
    "\n",
    "#transpose back \n",
    "R = R_transpose.T\n",
    "similarity = squareform(pdist(R, metric='cosine'))\n",
    "\n",
    "from sklearn.decomposition import TruncatedSVD \n",
    "\n",
    "svd = TruncatedSVD(n_components=30)\n",
    "\n",
    "new_similarity_matrix = svd.fit_transform(similarity)\n",
    "\n",
    "#this reduction is used to find the peer of user \n",
    "\n",
    "\n",
    "#now we want to infer what is the rating of user 1 on item 3 given 5 closest\n",
    "n_closest = 5 \n",
    "closest_5_peers = new_similarity_matrix[0].argsort()[-n_closest:][::-1]\n",
    "\n",
    "\n",
    "item_to_predict=2\n",
    "#calculate based on weighting \n",
    "total_similarities = 0 \n",
    "ratings= 0 \n",
    "for idx in closest_5_peers : \n",
    "    user_u = R[0]\n",
    "    user_v = R[idx]\n",
    "    similarities_u_v = cosine_similarities(user_u,user_v)\n",
    "    total_similarities+=similarities_u_v\n",
    "    #get user_v average ratings \n",
    "    user_v_avg_rating = np.mean(user_v)\n",
    "    \n",
    "    #get user_v ratings on item_to_predict \n",
    "    r_v_item = user_v[item_to_predict]\n",
    "    \n",
    "    #substract mean from user_v rating on item to predict \n",
    "    r_user_v_adjusted = (r_v_item - user_v_avg_rating)\n",
    "    \n",
    "    ratings +=  similarities_u_v * r_user_v_adjusted\n",
    "user_u = R[0]\n",
    "user_u_avg_rating = np.mean(user_u)\n",
    "ratings/=total_similarities\n",
    "ratings+=user_u_avg_rating\n",
    "\n",
    "print(f'User 1 Ratings on Item 10, Predicted :{ratings}, Actual {R[0][item_to_predict]}')"
   ]
  },
  {
   "attachments": {},
   "cell_type": "markdown",
   "metadata": {},
   "source": [
    "## Dimentionality Reduction using PCA "
   ]
  },
  {
   "cell_type": "code",
   "execution_count": 87,
   "metadata": {},
   "outputs": [
    {
     "name": "stdout",
     "output_type": "stream",
     "text": [
      "User 1 Ratings on Item 10, Predicted :1.8678659277730603, Actual 2.0\n"
     ]
    }
   ],
   "source": [
    "#Implementation \n",
    "# Create User Rating Matrix R\n",
    "m = 50 \n",
    "n = 50  \n",
    "max_rating = 5 \n",
    "R =  np.random.randint(max_rating,size=(m,n))\n",
    "\n",
    "#replacing zero with np.NaN\n",
    "R = np.where(R==0, np.nan, R)\n",
    "#however the PCA needs non missing value matrix \n",
    "\n",
    "#handling missing values \n",
    "R_transpose = R.T\n",
    "for col in range(n) : \n",
    "   mean = np.nanmean(R_transpose[col])\n",
    "   R_transpose[col][np.isnan(R_transpose[col])] = mean\n",
    "\n",
    "#transpose back \n",
    "R = R_transpose.T\n",
    "# similarity = squareform(pdist(R, metric='cosine'))\n",
    "covariance = np.cov(R)\n",
    "from sklearn.decomposition import TruncatedSVD,PCA\n",
    "\n",
    "pca = PCA(n_components=30)\n",
    "\n",
    "pca_cov = pca.fit_transform(covariance)\n",
    "\n",
    "#this reduction is used to find the peer of user \n",
    "\n",
    "\n",
    "#now we want to infer what is the rating of user 1 on item 3 given 5 closest\n",
    "n_closest = 5 \n",
    "closest_5_peers = pca_cov[0].argsort()[-n_closest:][::-1]\n",
    "\n",
    "\n",
    "item_to_predict=2\n",
    "#calculate based on weighting \n",
    "total_similarities = 0 \n",
    "ratings= 0 \n",
    "for idx in closest_5_peers : \n",
    "    user_u = R[0]\n",
    "    user_v = R[idx]\n",
    "    similarities_u_v = cosine_similarities(user_u,user_v)\n",
    "    total_similarities+=similarities_u_v\n",
    "    #get user_v average ratings \n",
    "    user_v_avg_rating = np.mean(user_v)\n",
    "    \n",
    "    #get user_v ratings on item_to_predict \n",
    "    r_v_item = user_v[item_to_predict]\n",
    "    \n",
    "    #substract mean from user_v rating on item to predict \n",
    "    r_user_v_adjusted = (r_v_item - user_v_avg_rating)\n",
    "    \n",
    "    ratings +=  similarities_u_v * r_user_v_adjusted\n",
    "user_u = R[0]\n",
    "user_u_avg_rating = np.mean(user_u)\n",
    "ratings/=total_similarities\n",
    "ratings+=user_u_avg_rating\n",
    "\n",
    "print(f'User 1 Ratings on Item 10, Predicted :{ratings}, Actual {R[0][item_to_predict]}')"
   ]
  },
  {
   "attachments": {
    "image.png": {
     "image/png": "[encoded data removed]"
    }
   },
   "cell_type": "markdown",
   "metadata": {},
   "source": [
    "## Implementing PCA from Scratch \n",
    "\n",
    "Objective -> Get New Features that has biggest variance \n",
    "Problem -> Maximization \n",
    "Cost Function -> \n",
    "Constraint -> Sum Squared of Scaling Factor is 1 \n",
    "\n",
    "Idea -> New Feature or Principal Component is Linear Combinations of feature \n",
    "![image.png](attachment:image.png)"
   ]
  },
  {
   "attachments": {},
   "cell_type": "markdown",
   "metadata": {},
   "source": []
  },
  {
   "attachments": {},
   "cell_type": "markdown",
   "metadata": {},
   "source": [
    "high_dim_data =  np.random.randint(400,size=(m,n))"
   ]
  },
  {
   "cell_type": "code",
   "execution_count": 55,
   "metadata": {},
   "outputs": [],
   "source": [
    "high_dim_data =  np.random.randint(400,size=(30,50))\n",
    "\n",
    "high_dim_data = high_dim_data - np.mean(high_dim_data , axis = 0)\n",
    "\n",
    "#why we create covariance matrix its because this is the best benchmark uniqueness  \n",
    "cov_mat = np.cov(high_dim_data , rowvar = False)\n",
    "\n",
    "eigen_values , eigen_vectors = np.linalg.eigh(cov_mat)\n",
    "\n",
    "sorted_index = np.argsort(eigen_values)[::-1]\n",
    "sorted_eigenvalue = eigen_values[sorted_index]\n",
    "sorted_eigenvectors = eigen_vectors[:,sorted_index]\n",
    "    \n",
    "#Step-5\n",
    "eigenvector_subset = sorted_eigenvectors[:,0:2]\n",
    "    \n",
    "#Step-6\n",
    "# X_reduced = np.dot(eigenvector_subset.transpose() , X_meaned.transpose() ).transpose()\n",
    "    \n",
    "\n"
   ]
  },
  {
   "cell_type": "code",
   "execution_count": 59,
   "metadata": {},
   "outputs": [
    {
     "data": {
      "text/plain": [
       "50"
      ]
     },
     "execution_count": 59,
     "metadata": {},
     "output_type": "execute_result"
    }
   ],
   "source": [
    "len(eigen_values)"
   ]
  },
  {
   "cell_type": "code",
   "execution_count": 56,
   "metadata": {},
   "outputs": [
    {
     "data": {
      "text/plain": [
       "(50, 2)"
      ]
     },
     "execution_count": 56,
     "metadata": {},
     "output_type": "execute_result"
    }
   ],
   "source": [
    "eigenvector_subset.shape"
   ]
  },
  {
   "cell_type": "code",
   "execution_count": 52,
   "metadata": {},
   "outputs": [
    {
     "data": {
      "text/plain": [
       "(50, 50)"
      ]
     },
     "execution_count": 52,
     "metadata": {},
     "output_type": "execute_result"
    }
   ],
   "source": [
    "high_dim_data.shape "
   ]
  },
  {
   "cell_type": "code",
   "execution_count": 57,
   "metadata": {},
   "outputs": [
    {
     "data": {
      "text/plain": [
       "array([[ -23.47907067, -234.76706237],\n",
       "       [-116.80720119,   90.37699593],\n",
       "       [-424.37997179,   35.42506162],\n",
       "       [-171.13236507,  319.00934532],\n",
       "       [ -38.80646896, -117.70397092],\n",
       "       [-306.71196209, -195.81273107],\n",
       "       [-159.28978797,  279.42417267],\n",
       "       [-256.85662384,  269.43746154],\n",
       "       [   3.32759352,  -16.83437788],\n",
       "       [ 159.89213105,  -98.25910781],\n",
       "       [  40.01117905,  303.90805073],\n",
       "       [ 386.72741418, -182.19552858],\n",
       "       [-250.97571716, -173.64836925],\n",
       "       [  83.48379774, -596.22189502],\n",
       "       [ 251.59587958,  -89.61727397],\n",
       "       [-409.26502051, -314.17115654],\n",
       "       [ -91.02178256,  165.52938269],\n",
       "       [ 461.99167453,  -22.86929011],\n",
       "       [ 260.64588139,  377.2613769 ],\n",
       "       [-362.78863605,   97.20521178],\n",
       "       [ 131.9453198 ,  223.11005335],\n",
       "       [ -20.23698855,  -38.00542181],\n",
       "       [  44.65981542,  560.60190977],\n",
       "       [ 298.02158856,  -88.14292287],\n",
       "       [-154.63733397,  193.84302734],\n",
       "       [-438.18914173, -219.17299472],\n",
       "       [ 545.1568398 ,  133.39835469],\n",
       "       [ 101.91300683, -209.77629302],\n",
       "       [ 285.02322281,  -78.53283235],\n",
       "       [ 170.18272786, -372.79917602]])"
      ]
     },
     "execution_count": 57,
     "metadata": {},
     "output_type": "execute_result"
    }
   ],
   "source": [
    "#expectation we are going to have 2 features of 50 sample or \n",
    "(50,2)\n",
    "np.dot(high_dim_data,eigenvector_subset)"
   ]
  },
  {
   "cell_type": "markdown",
   "metadata": {},
   "source": []
  },
  {
   "attachments": {},
   "cell_type": "markdown",
   "metadata": {},
   "source": [
    "## Direct Matrix Factorization for Incomplete Data\n",
    "\n",
    "$$A=UΣV^T$$\n",
    "\n",
    "$$ U = eigenvector(AA^T)$$\n",
    "\n",
    "$$ Σ = sqrt(eigval(AA^T))$$\n",
    "\n",
    "$$ V = eigenvector(A^TA) $$"
   ]
  },
  {
   "cell_type": "code",
   "execution_count": 88,
   "metadata": {},
   "outputs": [],
   "source": [
    "#Implementation -> Create Dummy Matrix\n",
    "# Create User Rating Matrix R\n",
    "m = 50 \n",
    "n = 50  \n",
    "max_rating = 5 \n",
    "R =  np.random.randint(max_rating,size=(m,n))\n",
    "\n",
    "#replacing zero with np.NaN\n",
    "R = np.where(R==0, np.nan, R)\n",
    "#however the PCA needs non missing value matrix "
   ]
  },
  {
   "attachments": {},
   "cell_type": "markdown",
   "metadata": {},
   "source": [
    "## Neighbourhood User Regression Model\n",
    "\n",
    "1. Provide User Rating Matrix \n",
    "2. Compute Create Similarity Matrix \n",
    "3. Create Weight W with size user x user \n",
    "4. For each user u or specified user we will predict \n",
    "    get k neighbour, k is hyperparameter \n",
    "    create weight regarding number of number of its neigbour \n",
    "    fit regression model \n",
    "    calculate error \n",
    "    optimize \n",
    "    set W based on location u and neigbour \n",
    "5. For Later Inference -> Call the weight from W multiply by each neigbour rating \n",
    "6. "
   ]
  },
  {
   "cell_type": "markdown",
   "metadata": {},
   "source": []
  }
 ],
 "metadata": {
  "kernelspec": {
   "display_name": "Python 3",
   "language": "python",
   "name": "python3"
  },
  "language_info": {
   "codemirror_mode": {
    "name": "ipython",
    "version": 3
   },
   "file_extension": ".py",
   "mimetype": "text/x-python",
   "name": "python",
   "nbconvert_exporter": "python",
   "pygments_lexer": "ipython3",
   "version": "3.8.5"
  },
  "orig_nbformat": 4
 },
 "nbformat": 4,
 "nbformat_minor": 2
}
