{
 "cells": [
  {
   "cell_type": "code",
   "execution_count": 1,
   "metadata": {},
   "outputs": [
    {
     "name": "stderr",
     "output_type": "stream",
     "text": [
      "c:\\Users\\Fakhri Robi Aulia\\AppData\\Local\\Programs\\Python\\Python38\\lib\\site-packages\\numpy\\_distributor_init.py:30: UserWarning: loaded more than 1 DLL from .libs:\n",
      "c:\\Users\\Fakhri Robi Aulia\\AppData\\Local\\Programs\\Python\\Python38\\lib\\site-packages\\numpy\\.libs\\libopenblas.EL2C6PLE4ZYW3ECEVIV3OXXGRN2NRFM2.gfortran-win_amd64.dll\n",
      "c:\\Users\\Fakhri Robi Aulia\\AppData\\Local\\Programs\\Python\\Python38\\lib\\site-packages\\numpy\\.libs\\libopenblas.FB5AE2TYXYH2IJRDKGDGQ3XBKLKTF43H.gfortran-win_amd64.dll\n",
      "c:\\Users\\Fakhri Robi Aulia\\AppData\\Local\\Programs\\Python\\Python38\\lib\\site-packages\\numpy\\.libs\\libopenblas.NOIJJG62EMASZI6NYURL6JBKM4EVBGM7.gfortran-win_amd64.dll\n",
      "c:\\Users\\Fakhri Robi Aulia\\AppData\\Local\\Programs\\Python\\Python38\\lib\\site-packages\\numpy\\.libs\\libopenblas64__v0.3.21-gcc_10_3_0.dll\n",
      "  warnings.warn(\"loaded more than 1 DLL from .libs:\"\n",
      "c:\\Users\\Fakhri Robi Aulia\\AppData\\Local\\Programs\\Python\\Python38\\lib\\site-packages\\scipy\\__init__.py:146: UserWarning: A NumPy version >=1.16.5 and <1.23.0 is required for this version of SciPy (detected version 1.24.2\n",
      "  warnings.warn(f\"A NumPy version >={np_minversion} and <{np_maxversion}\"\n"
     ]
    }
   ],
   "source": [
    "import pandas as pd \n",
    "import numpy as np \n",
    "from numpy.linalg import norm\n",
    "from scipy.spatial.distance import pdist,squareform\n",
    "\n",
    "def cosine_similarities(a,b) : \n",
    "    norm_a = np.sqrt(np.dot(a,a))\n",
    "    norm_b = np.sqrt(np.dot(b,b))\n",
    "    cosine_similarities = np.dot(a,b) / np.dot(norm_a,norm_b)\n",
    "    return cosine_similarities"
   ]
  },
  {
   "attachments": {},
   "cell_type": "markdown",
   "metadata": {},
   "source": [
    "## Implementation of SLIM from Scratch"
   ]
  },
  {
   "cell_type": "code",
   "execution_count": 62,
   "metadata": {},
   "outputs": [],
   "source": [
    "## implementation of SLIM \n",
    "from sklearn.linear_model import SGDRegressor\n",
    "class SLIM : \n",
    "    \"\"\"Implementation of SLIM User Based\n",
    "    \n",
    "    \"\"\"\n",
    "    def __init__(self,l1_reg=0.001, l2_reg=0.0001,top_k = 5,recommend_only_missing=True) -> None:\n",
    "        self.alpha = l1_reg + l2_reg\n",
    "        self.l1_ratio = l1_reg / self.alpha\n",
    "        self.max_rating = 5\n",
    "        self.top_k = 5\n",
    "        self.recommend_only_missing=recommend_only_missing\n",
    "    def impute_missing_values(self,user_rating_matrix) : \n",
    "        \"\"\"\n",
    "        Missing Values Imputation of User Rating Matrix using Mean of average item ratings ( Based on Charu C Aggarwal on Dimensionality Reduction Neighbourhood)\n",
    "        However According to Original Paper it said that the missing values treated as true Negative or 0\n",
    "        \n",
    "        Args:\n",
    "            user_rating_matrix (_type_): _description_\n",
    "\n",
    "        Returns:\n",
    "            _type_: _description_\n",
    "        \"\"\"\n",
    "        #save missing location for prediction purpose \n",
    "        self.missing_location = np.argwhere(np.isnan(user_rating_matrix))\n",
    "        for col in range(user_rating_matrix.shape[0]) : \n",
    "            mean = np.nanmean(user_rating_matrix[col])\n",
    "            user_rating_matrix[col][np.isnan(user_rating_matrix[col])] = mean\n",
    "\n",
    "\n",
    "        return user_rating_matrix\n",
    "    def clip_rating(self,rating)->int : \n",
    "        \"\"\"\n",
    "        Clip predicted rating when predicting according to max value of raring\n",
    "\n",
    "        Args:\n",
    "            rating (int): Predicted Rating\n",
    "\n",
    "        Returns:\n",
    "            int: clipped rating\n",
    "        \"\"\"\n",
    "        if rating > self.max_rating : \n",
    "            return self.max_rating \n",
    "        elif rating < 0  : \n",
    "            return 0 \n",
    "        elif (rating <= self.max_rating) & (rating>=0) : \n",
    "            return rating\n",
    "        \n",
    "    def fit(self,user_rating_matrix) : \n",
    "        \"\"\"Implementing Eq (1) of SLIM Paper Miminizing Least Squares Error of Ratings and \n",
    "        Predicted Ratings Also Implement Elastic Net Regularization \n",
    "\n",
    "        Args:\n",
    "            user_rating_matrix (np.array type): User Rating Matrix that has shape m(user)xn(items)\n",
    "        \"\"\"\n",
    "        self.m,self.n = user_rating_matrix.shape\n",
    "        self.W =  np.zeros(shape=(self.n,self.n))\n",
    "        \n",
    "        #prepare data \n",
    "        self.user_rating_matrix = self.impute_missing_values(user_rating_matrix)\n",
    "        \n",
    "        for item_index in range(self.n) : \n",
    "            # \n",
    "            model = SGDRegressor(\n",
    "            penalty='elasticnet',\n",
    "            fit_intercept=False,\n",
    "            alpha=self.alpha,\n",
    "            l1_ratio=self.l1_ratio)\n",
    "            \n",
    "            #prepare data for training \n",
    "            #isolate item_index array make it as target \n",
    "            training_rating = self.user_rating_matrix[:,item_index].copy()\n",
    "\n",
    "            #isolate item_idx as it becomes target \n",
    "            self.user_rating_matrix[:,item_index]=0 \n",
    "\n",
    "            #equivalent of model.fit(X,y)\n",
    "            model.fit(self.user_rating_matrix,training_rating.ravel())\n",
    "            self.user_rating_matrix[:,item_index] = training_rating\n",
    "\n",
    "            #get model coef  \n",
    "            coef_ = model.coef_ \n",
    "            #SLIM restriction \n",
    "            coef_[coef_< 0] = 0\n",
    "\n",
    "            #replace weight \n",
    "            for el in coef_.nonzero()[0]:\n",
    "                self.W[(el, item_index)] = coef_[el]\n",
    "                \n",
    "                \n",
    "    def predict_rating(self,user_idx,item_idx) : \n",
    "        \"\"\"Implementation of Prediction Function Based of Charu C. Aggarwal Recommendation System TextBook Eq. (2.33)\n",
    "\n",
    "        Args:\n",
    "            user_idx (_type_): user_index to predict rating\n",
    "            item_idx (_type_): item which rating to be predicted \n",
    "        \"\"\"\n",
    "        #get weight for item_idx \n",
    "        weight = self.W[item_idx]\n",
    "        #get_each available rating based on user_idx\n",
    "        rating = self.user_rating_matrix[user_idx]\n",
    "        \n",
    "        #dot product of weight of rating from all item from user = user_idx\n",
    "        predicted_rating = self.clip_rating(np.dot(weight,rating.T))\n",
    "        return predicted_rating\n",
    "    \n",
    "\n",
    "        \n",
    "        \n",
    "    def get_recommendation(self,user_idx,recommend_only_missing=True,top_k=5) : \n",
    "        \"\"\"Recommend best top K item for user=user_idx\n",
    "            Approach -> repredict missing rating only -> sort best on the highest-k (could be set)\n",
    "        Args:\n",
    "            user_idx (_type_): user_idx to recommend\n",
    "\n",
    "        Returns:\n",
    "            _type_: _description_\n",
    "        \"\"\"\n",
    "        #predict only missing value of the data \n",
    "        #finding missing_value on spesific user_idx\n",
    "        missing_item_idx = []\n",
    "        #missing location has shape of mxn (similar of user rating matrix) m -> user_idx and n-> item_index\n",
    "        for missing_loc in self.missing_location : \n",
    "            if missing_loc[0]==user_idx : \n",
    "                missing_item_idx.append(missing_loc[1])\n",
    "            else : \n",
    "                continue \n",
    "        #call user_rating_matrix = \n",
    "        user_idx_rating_matrix = self.user_rating_matrix[user_idx]\n",
    "        \n",
    "        #refill again the missing ones \n",
    "        for idx in missing_item_idx : \n",
    "            user_idx_rating_matrix[idx]= self.predict_rating(user_idx=user_idx,item_idx=idx)\n",
    "        #with assumption that rated item will not be recommended again \n",
    "        \n",
    "        recommendation  = {}\n",
    "        if recommend_only_missing : \n",
    "            missing_ratings = user_idx_rating_matrix[missing_item_idx]\n",
    "            rank = np.argsort(missing_ratings)[::-1][:top_k]\n",
    "            sorted_ratings = missing_ratings[rank]\n",
    "        \n",
    "        \n",
    "            for x,y in zip(rank,sorted_ratings) : \n",
    "                recommendation[f'Item ID : {x} ']= y\n",
    "        else : \n",
    "            rank = np.argsort(user_idx_rating_matrix)[::-1][:top_k]\n",
    "            sorted_ratings = user_idx_rating_matrix[rank]\n",
    "            for x,y in zip(rank,sorted_ratings) : \n",
    "                recommendation[f'Item ID : {x} ']= y\n",
    "                \n",
    "        return recommendation\n",
    "    "
   ]
  },
  {
   "cell_type": "code",
   "execution_count": null,
   "metadata": {},
   "outputs": [],
   "source": []
  },
  {
   "cell_type": "code",
   "execution_count": 63,
   "metadata": {},
   "outputs": [
    {
     "data": {
      "text/plain": [
       "1.8060091435691996"
      ]
     },
     "execution_count": 63,
     "metadata": {},
     "output_type": "execute_result"
    }
   ],
   "source": [
    "example_URM = np.array([\n",
    "                [1,np.nan,3,np.nan,np.nan,5,np.nan,np.nan,5,np.nan,4,np.nan],\n",
    "                [np.nan,np.nan,5,4,np.nan,np.nan,4,np.nan,np.nan,2,1,3],\n",
    "                [2,4,np.nan,1,2,np.nan,3,np.nan,4,3,5,np.nan],\n",
    "                [np.nan,2,4,np.nan,5,np.nan,np.nan,4,np.nan,np.nan,2,np.nan],\n",
    "                [np.nan,np.nan,4,3,4,2,np.nan,np.nan,np.nan,np.nan,2,5],\n",
    "                [1,np.nan,3,np.nan,3,np.nan,np.nan,2,np.nan,np.nan,4,np.nan],\n",
    "    \n",
    "]).T\n",
    "\n",
    "\n",
    "\n",
    "\n",
    "model = SLIM()\n",
    "model.fit(user_rating_matrix=example_URM)\n",
    "model.predict_rating(user_idx=0,item_idx=0)\n",
    "\n",
    "\n",
    "\n"
   ]
  },
  {
   "cell_type": "code",
   "execution_count": 64,
   "metadata": {},
   "outputs": [
    {
     "name": "stdout",
     "output_type": "stream",
     "text": [
      "MSE from SLIM Method, using Mean Imputation :  0.7190607334008564\n"
     ]
    }
   ],
   "source": [
    "## Predict Whole User Rating Matrix \n",
    "all_prediction_result = np.dot(example_URM,model.W)\n",
    "\n",
    "from sklearn.metrics import mean_squared_error \n",
    "\n",
    "mse = mean_squared_error(example_URM.reshape(-1,1),all_prediction_result.reshape(-1,1))\n",
    "print('MSE from SLIM Method, using Mean Imputation : ',mse)\n"
   ]
  },
  {
   "cell_type": "code",
   "execution_count": 77,
   "metadata": {},
   "outputs": [
    {
     "name": "stdout",
     "output_type": "stream",
     "text": [
      "Recommendation to User 6 , {'Item ID : 5 ': 5.0, 'Item ID : 0 ': 5.0, 'Item ID : 3 ': 3.7194378107598394, 'Item ID : 2 ': 3.1246500611676122, 'Item ID : 1 ': 2.638662788490432, 'Item ID : 4 ': 2.0}\n",
      "MSE Ratings user 6 : 2.6152247529986883\n"
     ]
    }
   ],
   "source": [
    "# User 6 Recommendation \n",
    "rec_user_6 = model.get_recommendation(user_idx=5,recommend_only_missing=False,top_k=None)\n",
    "print('Recommendation to User 6 ,',rec_user_6)\n",
    "#measure local mse \n",
    "predicted_rating_user_6 = list(rec_user_6.values())\n",
    "\n",
    "true_rating_user_6 = example_URM[5]\n",
    "true_rating_user_6\n",
    "\n",
    "mse_6 = mean_squared_error(true_rating_user_6,predicted_rating_user_6)\n",
    "print('MSE Ratings user 6 :',mse_6)"
   ]
  },
  {
   "cell_type": "code",
   "execution_count": 79,
   "metadata": {},
   "outputs": [
    {
     "name": "stdout",
     "output_type": "stream",
     "text": [
      "Recommendation to User 8 , {'Item ID : 3 ': 4.0, 'Item ID : 4 ': 3.3031562380182087, 'Item ID : 0 ': 2.9695801829213835, 'Item ID : 1 ': 2.678354344355851, 'Item ID : 5 ': 2.0, 'Item ID : 2 ': 1.8442035677024164}\n",
      "MSE Ratings user 8 :  1.0313084799865957\n"
     ]
    }
   ],
   "source": [
    "# User 8 Recommendation \n",
    "rec_user_8 = model.get_recommendation(user_idx=7,recommend_only_missing=False,top_k=None)\n",
    "print('Recommendation to User 8 ,',rec_user_8)\n",
    "predicted_rating_user_8 = list(rec_user_8.values())\n",
    "\n",
    "true_rating_user_8 = example_URM[7]\n",
    "true_rating_user_8\n",
    "\n",
    "mse_8 = mean_squared_error(true_rating_user_8,predicted_rating_user_8)\n",
    "print('MSE Ratings user 8 : ',mse_8)"
   ]
  },
  {
   "cell_type": "code",
   "execution_count": null,
   "metadata": {},
   "outputs": [
    {
     "name": "stdout",
     "output_type": "stream",
     "text": [
      "5 most similar to user 4 [10  0  5  1  9]\n",
      "5 least similar to user 4 [3 6 4 2 8]\n"
     ]
    }
   ],
   "source": [
    "## Which User is The Most Similar to User 4 \n",
    "\"\"\"\n",
    "In terms of Measuring Similarities, there are several way to do so \n",
    "1. Cosine Similarity \n",
    "2. Pearson Similarity \n",
    "3. Etc \n",
    "\"\"\"\n",
    "\n",
    "# Cosine Approach \n",
    "# Create Similarity Matrix \n",
    "cosine_similarity_matrix = squareform(pdist(example_URM, metric='cosine'))\n",
    "# pick user 4 \n",
    "user_4_cosine_similarity = cosine_similarity_matrix[3]\n",
    "# : \n",
    "print('5 most similar to user 4',np.argsort(user_4_cosine_similarity)[::-1][:5])\n",
    "print('5 least similar to user 4',np.argsort(user_4_cosine_similarity)[:5])"
   ]
  },
  {
   "cell_type": "code",
   "execution_count": null,
   "metadata": {},
   "outputs": [
    {
     "name": "stdout",
     "output_type": "stream",
     "text": [
      "5 most similar to user 4 [ 9 10  0  1 11]\n",
      "5 least similar to user 4 [3 6 4 8 7]\n"
     ]
    }
   ],
   "source": [
    "## Pearson \n",
    "pearson_similarity_matrix = squareform(pdist(example_URM, metric='correlation'))\n",
    "# pick user 4 \n",
    "user_4_pearson_similarity = pearson_similarity_matrix[3]\n",
    "# : \n",
    "print('5 most similar to user 4',np.argsort(user_4_pearson_similarity)[::-1][:5])\n",
    "print('5 least similar to user 4',np.argsort(user_4_pearson_similarity)[:5])"
   ]
  },
  {
   "cell_type": "code",
   "execution_count": null,
   "metadata": {},
   "outputs": [],
   "source": []
  }
 ],
 "metadata": {
  "kernelspec": {
   "display_name": "Python 3",
   "language": "python",
   "name": "python3"
  },
  "language_info": {
   "codemirror_mode": {
    "name": "ipython",
    "version": 3
   },
   "file_extension": ".py",
   "mimetype": "text/x-python",
   "name": "python",
   "nbconvert_exporter": "python",
   "pygments_lexer": "ipython3",
   "version": "3.8.5"
  },
  "orig_nbformat": 4
 },
 "nbformat": 4,
 "nbformat_minor": 2
}
