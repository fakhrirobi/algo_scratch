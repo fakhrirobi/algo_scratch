{
 "cells": [
  {
   "cell_type": "code",
   "execution_count": 17,
   "metadata": {},
   "outputs": [],
   "source": [
    "import pandas as pd \n",
    "import numpy as np \n",
    "import matplotlib.pyplot as plt \n",
    "\n",
    "\n"
   ]
  },
  {
   "cell_type": "code",
   "execution_count": 12,
   "metadata": {},
   "outputs": [],
   "source": [
    "## Calculating Cosine Similarity -> Measure Similarity Based on How Close two vector \n",
    "# each vector has its own direction and they make a corner with theta degrees -> cos theta -> measure closeness \n",
    "\n",
    "# formula cos theta = a.T * b / norm vector a * norm vector b \n",
    "\n",
    "#create a dummy example create n=5 items and m =3 attributes \n",
    "item_attribute_matrix = np.random.randint(2,size=(5,3))\n",
    "\"\"\"\n",
    "Output : \n",
    "array([[1, 0, 0],\n",
    "       [0, 1, 1],\n",
    "       [0, 0, 0],\n",
    "       [0, 0, 1],\n",
    "       [1, 1, 1]])\n",
    "\"\"\"\n",
    "#then let say we want to find the similarity between item 1 and item 3 \n",
    "item_1 = item_attribute_matrix[0]\n",
    "item_3 = item_attribute_matrix[2]\n",
    "item_4 = item_attribute_matrix[3]\n"
   ]
  },
  {
   "cell_type": "code",
   "execution_count": 32,
   "metadata": {},
   "outputs": [],
   "source": [
    "def cosine_similarities(a,b) : \n",
    "    norm_a = np.dot(a.T,a)\n",
    "    norm_b = np.dot(b.T,b)\n",
    "    cosine_similarities = np.dot(a.T,b) / np.dot(norm_a,norm_b)\n",
    "    return cosine_similarities"
   ]
  },
  {
   "cell_type": "code",
   "execution_count": 33,
   "metadata": {},
   "outputs": [
    {
     "data": {
      "text/plain": [
       "0.3333333333333333"
      ]
     },
     "execution_count": 33,
     "metadata": {},
     "output_type": "execute_result"
    }
   ],
   "source": [
    "cosine_similarities(item_4,item_3)"
   ]
  },
  {
   "cell_type": "code",
   "execution_count": 16,
   "metadata": {},
   "outputs": [],
   "source": [
    "# next we want 2d for easier visualization \n",
    "item_attribute_matrix2d = np.random.randint(2,size=(5,2))"
   ]
  },
  {
   "cell_type": "code",
   "execution_count": 34,
   "metadata": {},
   "outputs": [],
   "source": [
    "def plot_vector_similarity(a,b,n_features=2) : \n",
    "    similarities = cosine_similarities(a,b)\n",
    "    angle = np.arccos(similarities)\n",
    "    origin_point =  np.random.randint(1,size=(2,n_features))\n",
    "    plt.title(f'Similarity : {similarities} and Angle : {angle}')\n",
    "    plt.quiver(*origin_point,a,b,color=['r','g'])"
   ]
  },
  {
   "cell_type": "code",
   "execution_count": 35,
   "metadata": {},
   "outputs": [
    {
     "data": {
      "image/png": "[encoded data removed]",
      "text/plain": [
       "<Figure size 640x480 with 1 Axes>"
      ]
     },
     "metadata": {},
     "output_type": "display_data"
    }
   ],
   "source": [
    "plot_vector_similarity(item_attribute_matrix2d[2],item_attribute_matrix2d[2])"
   ]
  },
  {
   "cell_type": "code",
   "execution_count": null,
   "metadata": {},
   "outputs": [],
   "source": []
  }
 ],
 "metadata": {
  "kernelspec": {
   "display_name": "Python 3",
   "language": "python",
   "name": "python3"
  },
  "language_info": {
   "codemirror_mode": {
    "name": "ipython",
    "version": 3
   },
   "file_extension": ".py",
   "mimetype": "text/x-python",
   "name": "python",
   "nbconvert_exporter": "python",
   "pygments_lexer": "ipython3",
   "version": "3.8.5"
  },
  "orig_nbformat": 4
 },
 "nbformat": 4,
 "nbformat_minor": 2
}
