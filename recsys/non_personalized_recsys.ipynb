{
 "cells": [
  {
   "cell_type": "code",
   "execution_count": 1,
   "id": "95bb3388-d3c0-4bac-92f5-0f36b30eb2d8",
   "metadata": {},
   "outputs": [
    {
     "name": "stderr",
     "output_type": "stream",
     "text": [
      "c:\\Users\\Fakhri Robi Aulia\\AppData\\Local\\Programs\\Python\\Python38\\lib\\site-packages\\numpy\\_distributor_init.py:30: UserWarning: loaded more than 1 DLL from .libs:\n",
      "c:\\Users\\Fakhri Robi Aulia\\AppData\\Local\\Programs\\Python\\Python38\\lib\\site-packages\\numpy\\.libs\\libopenblas.EL2C6PLE4ZYW3ECEVIV3OXXGRN2NRFM2.gfortran-win_amd64.dll\n",
      "c:\\Users\\Fakhri Robi Aulia\\AppData\\Local\\Programs\\Python\\Python38\\lib\\site-packages\\numpy\\.libs\\libopenblas.FB5AE2TYXYH2IJRDKGDGQ3XBKLKTF43H.gfortran-win_amd64.dll\n",
      "c:\\Users\\Fakhri Robi Aulia\\AppData\\Local\\Programs\\Python\\Python38\\lib\\site-packages\\numpy\\.libs\\libopenblas.NOIJJG62EMASZI6NYURL6JBKM4EVBGM7.gfortran-win_amd64.dll\n",
      "c:\\Users\\Fakhri Robi Aulia\\AppData\\Local\\Programs\\Python\\Python38\\lib\\site-packages\\numpy\\.libs\\libopenblas64__v0.3.21-gcc_10_3_0.dll\n",
      "  warnings.warn(\"loaded more than 1 DLL from .libs:\"\n"
     ]
    }
   ],
   "source": [
    "import numpy as np \n",
    "import pandas as pd "
   ]
  },
  {
   "cell_type": "code",
   "execution_count": 2,
   "id": "cc6c4e45-e8b2-480a-9ee6-005d0ab4d1c0",
   "metadata": {},
   "outputs": [],
   "source": [
    "## Create User (i) Item Matrix that contains Ratings at calculate its average rating using Standard Method\n",
    "n_users = 5\n",
    "n_items = 10\n",
    "\n",
    "user_rating_matrix = np.random.randint(5,size=(n_users,n_items))"
   ]
  },
  {
   "cell_type": "code",
   "execution_count": 7,
   "id": "b97cfa88",
   "metadata": {},
   "outputs": [
    {
     "data": {
      "text/plain": [
       "(array([0, 0, 0, 0, 0, 1, 1, 1, 1, 1, 2, 2, 2, 2, 2, 2, 3, 3, 3, 3, 3, 3,\n",
       "        3, 4, 4, 4, 4, 4, 4, 4, 4, 4], dtype=int64),\n",
       " array([1, 4, 7, 8, 9, 0, 1, 2, 8, 9, 1, 2, 4, 6, 7, 9, 0, 3, 4, 5, 6, 8,\n",
       "        9, 0, 1, 2, 3, 5, 6, 7, 8, 9], dtype=int64))"
      ]
     },
     "execution_count": 7,
     "metadata": {},
     "output_type": "execute_result"
    }
   ],
   "source": [
    "np.where(user_rating_matrix>0)"
   ]
  },
  {
   "cell_type": "code",
   "execution_count": 12,
   "id": "96252060-b1e7-46af-9eb1-48539c36e49e",
   "metadata": {},
   "outputs": [
    {
     "data": {
      "text/plain": [
       "array([-0.66, -0.06,  0.04,  0.24,  0.44])"
      ]
     },
     "execution_count": 12,
     "metadata": {},
     "output_type": "execute_result"
    }
   ],
   "source": [
    "average_ratings = np.mean(user_rating_matrix,axis=1)\n",
    "overall_ratings = np.mean(user_rating_matrix)\n",
    "overall_ratings\n",
    "\n",
    "unbiased_ratings = average_ratings-overall_ratings\n",
    "unbiased_ratings"
   ]
  },
  {
   "cell_type": "code",
   "execution_count": 3,
   "id": "76023f06-ef3e-4432-ba96-71074e6e9ca1",
   "metadata": {},
   "outputs": [],
   "source": [
    "## Create User (i) Item Matrix that contains Ratings at calculate its average rating using Shrinkage Term Method"
   ]
  },
  {
   "cell_type": "code",
   "execution_count": null,
   "id": "1c8724ca-f27d-4589-9a9e-e8254a64bc6d",
   "metadata": {},
   "outputs": [],
   "source": []
  }
 ],
 "metadata": {
  "kernelspec": {
   "display_name": "Python 3 (ipykernel)",
   "language": "python",
   "name": "python3"
  },
  "language_info": {
   "codemirror_mode": {
    "name": "ipython",
    "version": 3
   },
   "file_extension": ".py",
   "mimetype": "text/x-python",
   "name": "python",
   "nbconvert_exporter": "python",
   "pygments_lexer": "ipython3",
   "version": "3.8.5"
  },
  "widgets": {
   "application/vnd.jupyter.widget-state+json": {
    "state": {},
    "version_major": 2,
    "version_minor": 0
   }
  }
 },
 "nbformat": 4,
 "nbformat_minor": 5
}
